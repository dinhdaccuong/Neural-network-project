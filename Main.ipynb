{
 "cells": [
  {
   "cell_type": "code",
   "execution_count": 102,
   "metadata": {},
   "outputs": [],
   "source": [
    "import my_module.data_process as dp\n",
    "import my_module.cal_input as ci\n",
    "import torch\n",
    "import torch.nn as nn\n",
    "# import torch.nn.functional as F\n",
    "from torch.autograd import Variable\n",
    "import torch.optim as optim\n",
    "import numpy as np\n",
    "import matplotlib.pyplot as plt\n",
    "import os\n",
    "%matplotlib inline"
   ]
  },
  {
   "cell_type": "code",
   "execution_count": 6,
   "metadata": {},
   "outputs": [],
   "source": [
    "class Neural_Network(nn.Module):\n",
    "    def __init__(self,n_feature, n_hidden_l1, n_hidden_l2): #n_hidden_l1 so neural tang thu nhat\n",
    "                                                  #n_hidden_l2 so neural tang thu hai\n",
    "        super().__init__() #khoi tao\n",
    "        self.cal_hidden1 = nn.Linear(n_feature, n_hidden_l1)   #hidden layer 1\n",
    "        self.relu1 = nn.ReLU()                                 #ham kich hoat layer 1\n",
    "        self.cal_hidden2 = nn.Linear(n_hidden_l1, n_hidden_l2) #hidden layer 2\n",
    "        self.relu2 = nn.ReLU()                                 #ham kich hoat layer 2\n",
    "        self.cal_lout = nn.Linear(n_hidden_l2, 1)              #output layer\n",
    "        self.out_act = nn.Sigmoid()                #gia tri ra\n",
    "        \n",
    "    def forward(self, x_input): #forward\n",
    "        z1 = self.cal_hidden1(x_input)\n",
    "        a1 = self.relu1(z1)\n",
    "        z2 = self.cal_hidden2(a1)\n",
    "        a2 = self.relu2(z2)\n",
    "        z3 = self.cal_lout(a2)\n",
    "        y = self.out_act(z3)\n",
    "        return y"
   ]
  },
  {
   "cell_type": "code",
   "execution_count": 57,
   "metadata": {},
   "outputs": [],
   "source": [
    "#Chuyển nhãn sang dạng 0, 1. 0-\"-\", 1-\"+\"\n",
    "#Tham số:\n",
    "    #file_name: Tên của tập chứa nhãn.\n",
    "    #num_label: Nhãn của loại K-PTM nào - (S1, S2, S3, S4) - (1, 2, 3, 4)\n",
    "#Trả về một ma trận cột chứa nhãn dạng nhị phân của các mẫu trong file có tên file_name\n",
    "def Label_To_Bin(path_name, file_name, num_label):\n",
    "    path_old = os.getcwd()\n",
    "    os.chdir(path_name)\n",
    "    f_read = open(file_name, \"r\")\n",
    "    \n",
    "    list_label = [\"\", \"\", \"\", \"\"]\n",
    "    re = \"\"\n",
    "    i = 0 #index của list_label\n",
    "    for line in f_read:\n",
    "        list_label[i] = \"\" + line\n",
    "        i += 1\n",
    "    re = list_label[num_label]\n",
    "    re = re[0: len(re)-1] #Bo ki tu xuong dong\n",
    "    matrix_b = np.ones((len(re), 1)) #ma trận lưu kết quả của chuyển đổi\n",
    "    k = 0 #chi so hang cua matrix_b\n",
    "    for ch in re:\n",
    "        if(ch == \"+\"):\n",
    "            matrix_b[k][0] = 1\n",
    "        else:\n",
    "            matrix_b[k][0] = 0\n",
    "        k += 1\n",
    "    os.chdir(path_old)\n",
    "    f_read.close()\n",
    "    return matrix_b"
   ]
  },
  {
   "cell_type": "code",
   "execution_count": 87,
   "metadata": {},
   "outputs": [],
   "source": [
    "from sklearn.model_selection import KFold\n",
    "class ModelData:\n",
    "    path_data = \"E:\\\\WinPython-64bit-3.5.4.0Qt5\\\\notebooks\\\\Neural_Network_Final\\\\Data\"\n",
    "    path_pro = \"E:\\\\WinPython-64bit-3.5.4.0Qt5\\\\notebooks\\\\Neural_Network_Final\\\\Data\\\\K_PTM\"\n",
    "    file_label_name = \"lable_data.txt\"\n",
    "    file_name_data = \"data.txt\"   \n",
    "    list_pos_name = [\"s1_pos.txt\", \"s2_pos.txt\", \"s3_pos.txt\", \"s4_pos.txt\"]\n",
    "    list_neg_name = [\"s1_neg.txt\", \"s3_neg.txt\", \"s3_neg.txt\", \"s4_neg.txt\"]\n",
    "    def __init__(self, num_s):\n",
    "        self.num_s = num_s # nhãn tương ứng, num_s = 0 thực hiện tính xác suất cho NN1\n",
    "        #self.random_of_state = random_of_state #random of state của K-Fold\n",
    "        self.list_train = [] #lưu các phần tử của tập train\n",
    "        self.list_val = [] #lưu các phần tử của tập val\n",
    "    def __Cal_Pro(self):\n",
    "        pro_obj = ci.Probability(self.path_data, self.file_name_data, self.list_pos_name[self.num_s], self.list_neg_name[self.num_s], self.path_pro) #Xac suat cua tap du lieu doi voi nhan tuong ung\n",
    "        self.probability = pro_obj.Cal_Probability()\n",
    "    def __Label(self):\n",
    "        self.label = Label_To_Bin(self.path_data, self.file_label_name, self.num_s) #Nhãn tương ứng sang dạng nhị phân\n",
    "    def Active(self):\n",
    "        self.__Cal_Pro() #tính xác xuất\n",
    "        self.__Label() #Gán nhãn sang dạng nhị phân\n",
    "    def Set_Random_Of_State(self, random_of_state):\n",
    "        self.list_train.clear()\n",
    "        self.list_val.clear()\n",
    "        kfold = KFold(5, True, random_of_state) #Phân chia dữ liệu thành 5 -fold\n",
    "        for train, val in kfold.split(self.probability): #Lấy các phần tử thuộc tập train và tập val của 5 fold\n",
    "            self.list_train.append(train) #Lưu các phàn tử của tập train\n",
    "            self.list_val.append(val) #lưu các phần tử của tập val\n",
    "    def Train_And_Val(self, s): #s = 0-tập thứ nhất là tập val\n",
    "        self.input_train = self.probability[self.list_train[s]] #input cho tập train\n",
    "        self.input_val   = self.probability[self.list_val[s]] #input cho tập val\n",
    "        self.label_train = self.label[self.list_train[s]]     #nhãn cho tập train\n",
    "        self.label_val   = self.label[self.list_val[s]]       #nhãn cho tập val\n",
    "        \n",
    "        "
   ]
  },
  {
   "cell_type": "code",
   "execution_count": 117,
   "metadata": {},
   "outputs": [],
   "source": [
    "#Thuộc tính:\n",
    "    #net_num: mạng training cho loại K-PTM Snet_num, tính xác xuất trên Snet_num, net_num = (0, 1, 2, 3)\n",
    "    #n_hidden_l1: Số neural tầng thứ nhất\n",
    "    #n_hidden_l2: Số neural tầng thứ hai\n",
    "class Model:\n",
    "    Result = []   #Kết quả dự đoán - Thuộc tính lớp\n",
    "    Label  = []   #Nhãn của dữ liệu - thuộc tính Lớp\n",
    "    def __init__(self, data, net_num, n_hidden_l1, n_hidden_l2, time_train):\n",
    "        self.net_num = net_num\n",
    "        self.n_hidden_l1 = n_hidden_l1\n",
    "        self.n_hidden_l2 = n_hidden_l2\n",
    "        self.predicted = np.zeros((6393, 1))\n",
    "        self.data = data\n",
    "        self.time_train = time_train\n",
    "    def Train_And_Predict(self):\n",
    "        #k = 0\n",
    "        list_loss = []\n",
    "        self.Result.append(np.zeros((6393, 1)))#Mỗi lần gọi hàm sẽ khởi tạo cho list kết quả ở lần đó một ma trận 0, sau đó gán sau\n",
    "        self.Label.append(self.data.label)     #thêm nhãn của tập dữ liệu hiện tại.\n",
    "        print(\"NN \", self.net_num)\n",
    "        for i_data in range(5): #i_data = 0 - dung tap data1 lam tap val\n",
    "            list_loss.clear()\n",
    "            count = 0\n",
    "            net = Neural_Network(26, self.n_hidden_l1, self.n_hidden_l2)\n",
    "            opt = optim.Adam(net.parameters(), lr=0.001, betas=(0.9, 0.999))\n",
    "            criterion = nn.BCELoss()\n",
    "            \n",
    "            self.data.Train_And_Val(i_data)  #Tính dữ liệu vào train và test\n",
    "            input_net = torch.from_numpy(self.data.input_train).type(torch.FloatTensor)\n",
    "            label_net = torch.from_numpy(self.data.label_train).type(torch.FloatTensor)\n",
    "            net.train()\n",
    "            for t in range(self.time_train):\n",
    "                opt.zero_grad()                     #Xoa gradient cho lan train tiep theo\n",
    "                y_hat = net(input_net)              #tinh output\n",
    "                loss = criterion(y_hat, label_net)  #tinh loi\n",
    "                loss.backward()                     #tinh gradinet\n",
    "                opt.step()\n",
    "                list_loss.append(loss.data.numpy())\n",
    "            print(\"Loss train \",i_data)\n",
    "            print(\"loss = \", loss.data.numpy())\n",
    "            plt.plot(list_loss)\n",
    "            plt.show()\n",
    "            #Predict\n",
    "            input_val = torch.from_numpy(self.data.input_val).type(torch.FloatTensor) #input vadilation\n",
    "            net.eval()\n",
    "            outputs = net(input_val).data.numpy()  #Tính output của mạng với tập val sau khi train\n",
    "            #Tính kết quả \n",
    "            for i in range(outputs.shape[0]):\n",
    "                if(outputs[i][0] >= 0.5):\n",
    "                    self.Result[self.net_num][self.data.list_val[i_data][i]][0] = 1  #Gán dữ liệu tính được vào tập Result\n",
    "                elif(outputs[i][0] < 0.5):\n",
    "                    self.Result[self.net_num][self.data.list_val[i_data][i]][0] = 0  #Gán dữ liệu tính được vào tập Result\n",
    "                #k += 1   \n",
    "                \n",
    "                if(((outputs[i][0] >= 0.5) & (self.data.label_val[i][0] == 1)) | ((outputs[i][0] < 0.5) & (self.data.label_val[i][0] == 0))):    \n",
    "                    count += 1\n",
    "            prob = count*100/outputs.shape[0]\n",
    "            print(\"predict_data%s\" % (i_data), prob)"
   ]
  },
  {
   "cell_type": "code",
   "execution_count": 110,
   "metadata": {},
   "outputs": [],
   "source": [
    "class MeasuringMetrics:\n",
    "    def __init__(self, predict_data, label_data):\n",
    "        self.predict_data = predict_data\n",
    "        self.label_data = label_data\n",
    "        self.Aming = 0\n",
    "        self.Coverage = 0\n",
    "        self.Accuracy = 0\n",
    "        self.Absolute_True = 0\n",
    "        self.Absolute_False = 0\n",
    "        #######\n",
    "\n",
    "    def Cal(self):\n",
    "        # Yk nhan da duoc quan sat thu nghiem\n",
    "        # Zk nhan duoc du doan bang mo hinh mang\n",
    "        total_sample = 6393\n",
    "        count = 0\n",
    "        for i_sample in range(6393):  # List co phan tu tuong ung voi 4 loai k-ptm\n",
    "            delta = 0  # Bien delta de tinh Absolute-True\n",
    "            flag = 0  # flag = 0 delta = 1, flag = 1 delata = 0\n",
    "            uin_minus_inter = 0\n",
    "            Yk_inter_Zk = 0\n",
    "            Yk_uni_Zk = 0\n",
    "            Yk = 0\n",
    "            Zk = 0\n",
    "            for i_list in range(4):\n",
    "                if ((self.predict_data[i_list][i_sample][0] == 1) & (self.label_data[i_list][i_sample][0] == 1)):\n",
    "                    Yk_inter_Zk += 1\n",
    "                if (self.predict_data[i_list][i_sample][0] != self.label_data[i_list][i_sample][0]):\n",
    "                    flag = 1;\n",
    "                if (self.predict_data[i_list][i_sample][0] == 1):\n",
    "                    Zk += 1\n",
    "                if (self.label_data[i_list][i_sample][0] == 1):\n",
    "                    Yk += 1\n",
    "            if (flag == 1):\n",
    "                delta = 0\n",
    "            else:\n",
    "                delta = 1\n",
    "\n",
    "            if ((Yk == 0) & (Zk == 0)):\n",
    "                Yk_inter_Zk = 1\n",
    "            if (Yk == 0):\n",
    "                Yk = 1\n",
    "            if (Zk == 0):\n",
    "                Zk = 1\n",
    "\n",
    "            Yk_uni_Zk = Zk + Yk - Yk_inter_Zk\n",
    "            uin_minus_inter = (Yk_uni_Zk - Yk_inter_Zk)\n",
    "\n",
    "            self.Aming += Yk_inter_Zk / Zk\n",
    "            self.Coverage += Yk_inter_Zk / Yk\n",
    "            self.Accuracy += Yk_inter_Zk / Yk_uni_Zk\n",
    "            self.Absolute_True += delta\n",
    "            self.Absolute_False += (uin_minus_inter)/5\n",
    "        self.Aming = self.Aming / total_sample\n",
    "        self.Coverage = self.Coverage/total_sample\n",
    "        self.Accuracy = self.Accuracy/total_sample\n",
    "        self.Absolute_True = self.Absolute_True/total_sample\n",
    "        self.Absolute_False = self.Absolute_False/total_sample"
   ]
  },
  {
   "cell_type": "code",
   "execution_count": 111,
   "metadata": {},
   "outputs": [],
   "source": [
    "data0 = ModelData(0)\n",
    "data1 = ModelData(1)\n",
    "data2 = ModelData(2)\n",
    "data3 = ModelData(3)\n",
    "\n",
    "data0.Active()\n",
    "data1.Active()\n",
    "data2.Active()\n",
    "data3.Active()"
   ]
  },
  {
   "cell_type": "code",
   "execution_count": null,
   "metadata": {},
   "outputs": [],
   "source": []
  },
  {
   "cell_type": "code",
   "execution_count": 120,
   "metadata": {},
   "outputs": [],
   "source": [
    "data0.Set_Random_Of_State(2)\n",
    "data1.Set_Random_Of_State(2)\n",
    "data2.Set_Random_Of_State(2)\n",
    "data3.Set_Random_Of_State(2)\n",
    "model0 = Model(data0, 0, 100, 64, 1400)\n",
    "#model1 = Model(data1, 1, 64, 32, 1000)\n",
    "#model2 = Model(data2, 2, 64, 32, 1000)\n",
    "#model3 = Model(data3, 3, 64, 32, 1000)"
   ]
  },
  {
   "cell_type": "code",
   "execution_count": 121,
   "metadata": {},
   "outputs": [
    {
     "name": "stdout",
     "output_type": "stream",
     "text": [
      "NN  0\n",
      "Loss train  0\n",
      "loss =  0.2408977597951889\n"
     ]
    },
    {
     "data": {
      "image/png": "[encoded data removed]",
      "text/plain": [
       "<matplotlib.figure.Figure at 0x1e7e64dcda0>"
      ]
     },
     "metadata": {},
     "output_type": "display_data"
    },
    {
     "name": "stdout",
     "output_type": "stream",
     "text": [
      "predict_data0 87.49022673964035\n",
      "Loss train  1\n",
      "loss =  0.19347919523715973\n"
     ]
    },
    {
     "data": {
      "image/png": "[encoded data removed]",
      "text/plain": [
       "<matplotlib.figure.Figure at 0x1e7ea0f24a8>"
      ]
     },
     "metadata": {},
     "output_type": "display_data"
    },
    {
     "name": "stdout",
     "output_type": "stream",
     "text": [
      "predict_data1 86.86473807662236\n",
      "Loss train  2\n",
      "loss =  0.19880609214305878\n"
     ]
    },
    {
     "data": {
      "image/png": "[encoded data removed]",
      "text/plain": [
       "<matplotlib.figure.Figure at 0x1e7ed79cef0>"
      ]
     },
     "metadata": {},
     "output_type": "display_data"
    },
    {
     "name": "stdout",
     "output_type": "stream",
     "text": [
      "predict_data2 85.69194683346365\n",
      "Loss train  3\n",
      "loss =  0.22841939330101013\n"
     ]
    },
    {
     "data": {
      "image/png": "[encoded data removed]",
      "text/plain": [
       "<matplotlib.figure.Figure at 0x1e7ea061898>"
      ]
     },
     "metadata": {},
     "output_type": "display_data"
    },
    {
     "name": "stdout",
     "output_type": "stream",
     "text": [
      "predict_data3 88.34115805946792\n",
      "Loss train  4\n",
      "loss =  0.20944160223007202\n"
     ]
    },
    {
     "data": {
      "image/png": "[encoded data removed]",
      "text/plain": [
       "<matplotlib.figure.Figure at 0x1e7e9b8e780>"
      ]
     },
     "metadata": {},
     "output_type": "display_data"
    },
    {
     "name": "stdout",
     "output_type": "stream",
     "text": [
      "predict_data4 87.01095461658842\n"
     ]
    }
   ],
   "source": [
    "model0.Train_And_Predict()\n",
    "#model1.Train_And_Predict()\n",
    "#model2.Train_And_Predict()\n",
    "#model3.Train_And_Predict()"
   ]
  },
  {
   "cell_type": "code",
   "execution_count": null,
   "metadata": {},
   "outputs": [],
   "source": []
  },
  {
   "cell_type": "code",
   "execution_count": null,
   "metadata": {},
   "outputs": [],
   "source": []
  },
  {
   "cell_type": "code",
   "execution_count": 84,
   "metadata": {},
   "outputs": [
    {
     "name": "stdout",
     "output_type": "stream",
     "text": [
      "Aming   :  0.8675634808905572\n",
      "Coverage:  0.8693101830126702\n",
      "Accuracy:  0.8534595130090202\n",
      "Absolute_True 0.8230877522290004\n",
      "Absolute_False 0.05940872829657345\n"
     ]
    }
   ],
   "source": [
    "me = MeasuringMetrics(Model.Result, Model.Label)\n",
    "me.Cal()\n",
    "print(\"Aming   : \",me.Aming)\n",
    "print(\"Coverage: \",me.Coverage)\n",
    "print(\"Accuracy: \",me.Accuracy)\n",
    "print(\"Absolute_True\", me.Absolute_True)\n",
    "print(\"Absolute_False\", me.Absolute_False)"
   ]
  },
  {
   "cell_type": "code",
   "execution_count": 50,
   "metadata": {},
   "outputs": [
    {
     "name": "stdout",
     "output_type": "stream",
     "text": [
      "[[ 0.]\n",
      " [ 1.]\n",
      " [ 1.]\n",
      " ..., \n",
      " [ 0.]\n",
      " [ 0.]\n",
      " [ 0.]]\n"
     ]
    }
   ],
   "source": [
    "#Tham số:\n",
    "    #file_name: Tên của tập chứa nhãn.\n",
    "    #num_label: Nhãn của loại K-PTM nào - (S1, S2, S3, S4) - (1, 2, 3, 4)\n",
    "#Trả về một ma trận cột chứa nhãn dạng nhị phân của các mẫu trong file có tên file_name\n",
    "def Label_To_Bin(path_name, file_name, num_label):\n",
    "    path_old = os.getcwd()\n",
    "    os.chdir(path_name)\n",
    "    f_read = open(file_name, \"r\")\n",
    "    \n",
    "    list_label = [\"\", \"\", \"\", \"\"]\n",
    "    re = \"\"\n",
    "    i = 0 #index của list_label\n",
    "    for line in f_read:\n",
    "        list_label[i] = \"\" + line\n",
    "        i += 1\n",
    "    re = list_label[num_label]\n",
    "    re = re[0: len(re)-1] #Bo ki tu xuong dong\n",
    "    matrix_b = np.ones((len(re), 1)) #ma trận lưu kết quả của chuyển đổi\n",
    "    k = 0 #chi so hang cua matrix_b\n",
    "    for ch in re:\n",
    "        if(ch == \"+\"):\n",
    "            matrix_b[k][0] = 1\n",
    "        else:\n",
    "            matrix_b[k][0] = 0\n",
    "        k += 1\n",
    "    os.chdir(path_old)\n",
    "    f_read.close()\n",
    "    return matrix_b\n",
    "\n",
    "path_data = \"E:\\\\WinPython-64bit-3.5.4.0Qt5\\\\notebooks\\\\Neural_Network_Final\\\\Data\"\n",
    "file_label_name = \"lable_data.txt\"\n",
    "s = Label_To_Bin(path_data, file_label_name, 3)\n",
    "print(s)"
   ]
  },
  {
   "cell_type": "code",
   "execution_count": 61,
   "metadata": {},
   "outputs": [],
   "source": []
  },
  {
   "cell_type": "code",
   "execution_count": null,
   "metadata": {},
   "outputs": [],
   "source": []
  },
  {
   "cell_type": "code",
   "execution_count": 51,
   "metadata": {},
   "outputs": [],
   "source": []
  },
  {
   "cell_type": "code",
   "execution_count": 56,
   "metadata": {},
   "outputs": [],
   "source": []
  },
  {
   "cell_type": "code",
   "execution_count": 106,
   "metadata": {},
   "outputs": [
    {
     "name": "stdout",
     "output_type": "stream",
     "text": [
      "[[2 3 4]\n",
      " [5 8 9]\n",
      " [2 4 5]\n",
      " [8 9 0]\n",
      " [6 8 3]\n",
      " [4 8 9]]\n"
     ]
    }
   ],
   "source": [
    "a1 = np.array([[1, 2, 4],\n",
    "               [5, 6, 7]])\n",
    "a2 = np.array([[2, 3, 4],\n",
    "               [5, 8, 9]])\n",
    "a3 = np.array([[2, 4, 5], \n",
    "               [8, 9, 0]])\n",
    "a4 = np.array([[6, 8, 3],\n",
    "               [4, 8, 9]])\n",
    "list_matrix = [a1, a2, a3, a4]\n",
    "dec = 0\n",
    "i = 0; #Không gộp a4\n",
    "for j in range(4):\n",
    "    if((j != i) & (dec == 0)):\n",
    "        a = list_matrix[j]\n",
    "        dec = 1\n",
    "    elif(j != i):\n",
    "        a = np.concatenate((a, list_matrix[j]), axis = 0)\n",
    "print(a)"
   ]
  },
  {
   "cell_type": "code",
   "execution_count": null,
   "metadata": {},
   "outputs": [],
   "source": []
  },
  {
   "cell_type": "code",
   "execution_count": null,
   "metadata": {},
   "outputs": [],
   "source": []
  },
  {
   "cell_type": "code",
   "execution_count": 16,
   "metadata": {},
   "outputs": [],
   "source": [
    "#!!!!!!!!!!!!!!!!!!!!!!!!!!!!!!!!!!!!!!!!!!!!!!!!!!!!!!!!\n",
    "#Chuyển nhãn sang dạng 0, 1. 0-\"-\", 1-\"+\"\n",
    "#Tham số:\n",
    "    #file_name: Tên của tập chứa nhãn.\n",
    "    #num_label: Nhãn của loại K-PTM nào - (S1, S2, S3, S4) - (1, 2, 3, 4)\n",
    "#Trả về một ma trận cột chứa nhãn dạng nhị phân của các mẫu trong file có tên file_name\n",
    "def Label_To_Bin(file_name, num_label): \n",
    "    path_old = os.getcwd()\n",
    "    os.chdir(\"E:\\\\WinPython-64bit-3.5.4.0Qt5\\\\notebooks\\\\Neural_Network_Final\\\\Data\\\\Train\")\n",
    "    f_read = open(file_name, \"r\")\n",
    "    \n",
    "    list_label = [\"\", \"\", \"\", \"\"]\n",
    "    \n",
    "    #Đọc dữ liệu từ file vào list_label\n",
    "    i = 0 #index của list_label\n",
    "    for line in f_read:\n",
    "        list_label[i] = \"\" + line\n",
    "        i += 1\n",
    "        \n",
    "    #Kiem tra đọc nhãn của loại nào\n",
    "    re = \"\"\n",
    "    for j in range(4):\n",
    "        if((num_label) == j):\n",
    "            re = list_label[j]\n",
    "    re = re[0: len(re)-1] #Bo ki tu xuong dong\n",
    "    \n",
    "    #Chuyển nhãn của dữ liệu về ma trận cột dạng nhị phân\n",
    "    matrix_b = np.ones((len(re), 1))\n",
    "    k = 0 #chi so hang cua matrix_b\n",
    "    for ch in re:\n",
    "        if(ch == \"+\"):\n",
    "            matrix_b[k][0] = 1\n",
    "        else:\n",
    "            matrix_b[k][0] = 0\n",
    "        k += 1\n",
    "    os.chdir(path_old)\n",
    "    f_read.close()\n",
    "    return matrix_b"
   ]
  },
  {
   "cell_type": "code",
   "execution_count": null,
   "metadata": {},
   "outputs": [],
   "source": []
  },
  {
   "cell_type": "code",
   "execution_count": null,
   "metadata": {},
   "outputs": [],
   "source": []
  },
  {
   "cell_type": "code",
   "execution_count": null,
   "metadata": {
    "collapsed": true
   },
   "outputs": [],
   "source": [
    "#!!!!!!!!!!!!!!!!!!!!!!!!!!!!!!!!!!!!!!!!!!!!!!!!!!!!!!!!!!!!!!!!!!!!!!!\n",
    "#Lớp chứa dữ liệu đầu vào cho mạng\n",
    "#Tham số của hàm khởi tạo:\n",
    "    #num_s: Tính xác xuất trên tập s1 or s2 or s3 or s3, num_s = (0, 1, 2, 3)\n",
    "#Các thuộc tính:\n",
    "    #list_pro: List chứa xác xuất đầu vào cho mạng.\n",
    "    #list_label_bin: List chứa các ma trận cột là nhãn đã chuyển về dạng nhị phân của 5 tập dữ liệu.\n",
    "    #input_train: Đầu vào cho tập train\n",
    "    #input_val: Đầu vào cho tập val\n",
    "    #label_train: Nhãn của tập train\n",
    "    #label_val: Nhãn của tập val\n",
    "    #self.label: Nhãn của toàn bộ tập dữ liệu\n",
    "class ModelData:\n",
    "    path_train = \"E:\\\\WinPython-64bit-3.5.4.0Qt5\\\\notebooks\\\\Neural_Network_Final\\\\Data\\\\Train\"\n",
    "    path_pro = \"E:\\\\WinPython-64bit-3.5.4.0Qt5\\\\notebooks\\\\Neural_Network_Final\\\\Data\\\\K_PTM\"\n",
    "        \n",
    "    list_pos_name = [\"s1_pos.txt\", \"s2_pos.txt\", \"s3_pos.txt\", \"s4_pos.txt\"]\n",
    "    list_neg_name = [\"s1_neg.txt\", \"s3_neg.txt\", \"s3_neg.txt\", \"s4_neg.txt\"]\n",
    "        \n",
    "    list_data_name = [\"data1.txt\", \"data2.txt\", \"data3.txt\", \"data4.txt\", \"data5.txt\"]\n",
    "    list_label_name = [\"lable1.txt\", \"lable2.txt\", \"lable3.txt\", \"lable4.txt\", \"lable5.txt\"]\n",
    "    \n",
    "    def __init__(self, num_s): #num_s: 0, 1, 2, 3\n",
    "        self.num_s = num_s\n",
    "        self.list_pro = []    #Lưu các xác xuất của tập 1 -> 5\n",
    "        self.list_label_bin = []\n",
    "    def __Cal_Pro(self):    #Tính xác xuất của 5 tập đối với loại K-PTM S_num_s     \n",
    "        for i in range(4):\n",
    "            if(i == (self.num_s)):  #Tinh xac suat doi voi tap num_s\n",
    "                for j in range(5):\n",
    "                    pro_o = ci.Probability(self.path_train,self.list_data_name[j], self.list_pos_name[i], self.list_neg_name[i], self.path_pro)\n",
    "                    self.list_pro.append(pro_o.Cal_Probability())\n",
    "    def __Label(self):  #Chuyen cac nhan sang danh nhi phan va luu cac thuoc tinh\n",
    "        for i in range(5):\n",
    "            self.list_label_bin.append(Label_To_Bin(self.list_label_name[i], self.num_s))\n",
    "        #Gộp tất cả các nhãn của cả 5 tập dữ liệu với nhau:\n",
    "        self.label = self.list_label_bin[0]\n",
    "        for i in range(1, 5):\n",
    "            self.label = np.concatenate((self.label, self.list_label_bin[i]), axis = 0)\n",
    "            \n",
    "    def Active(self):\n",
    "        self.__Cal_Pro()  #Tinh xác xuat\n",
    "        self.__Label()    #Chuyển nhãn sang dạng nhị phân\n",
    "    def Train_And_Val(self, s):    #Ex: s = 0 - Tập data1 là tập val, còn lại gộp lại là tập train\n",
    "        flag = 0\n",
    "        for j in range(5):\n",
    "            if((j != s) & (flag == 0)):\n",
    "                self.input_train = self.list_pro[j]\n",
    "                self.label_train = self.list_label_bin[j]\n",
    "                flag = 1\n",
    "            elif(j != s):\n",
    "                self.input_train = np.concatenate((self.input_train, self.list_pro[j]), axis = 0)\n",
    "                self.label_train = np.concatenate((self.label_train, self.list_label_bin[j]), axis = 0)\n",
    "                \n",
    "        self.input_val = self.list_pro[s]\n",
    "        self.label_val = self.list_label_bin[s]\n",
    "        #Gộp ma trận nhãn."
   ]
  }
 ],
 "metadata": {
  "kernelspec": {
   "display_name": "Python 3",
   "language": "python",
   "name": "python3"
  },
  "language_info": {
   "codemirror_mode": {
    "name": "ipython",
    "version": 3
   },
   "file_extension": ".py",
   "mimetype": "text/x-python",
   "name": "python",
   "nbconvert_exporter": "python",
   "pygments_lexer": "ipython3",
   "version": "3.5.4"
  }
 },
 "nbformat": 4,
 "nbformat_minor": 2
}
