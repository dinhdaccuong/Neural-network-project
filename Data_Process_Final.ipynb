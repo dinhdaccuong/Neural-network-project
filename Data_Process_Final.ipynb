{
 "cells": [
  {
   "cell_type": "code",
   "execution_count": 1,
   "metadata": {},
   "outputs": [],
   "source": [
    "import my_module.data_process as dp"
   ]
  },
  {
   "cell_type": "code",
   "execution_count": 2,
   "metadata": {},
   "outputs": [],
   "source": [
    "##########################\n",
    "#Chia dữ liệu thành 2 tập data và lable data\n",
    "path_data_raw = \"E:\\\\WinPython-64bit-3.5.4.0Qt5\\\\notebooks\\\\Neural_Network_Final\\\\Data\"\n",
    "dp.Data_Process(path_data_raw, \"raw_data.txt\", \"data.txt\", \"lable_data.txt\")"
   ]
  },
  {
   "cell_type": "code",
   "execution_count": 3,
   "metadata": {},
   "outputs": [],
   "source": [
    "##########################\n",
    "#Chia dữ liệu thành 5 phần\n",
    "path_data       = \"E:\\\\WinPython-64bit-3.5.4.0Qt5\\\\notebooks\\\\Neural_Network_Final\\\\Data\"\n",
    "path_data_save  = \"E:\\\\WinPython-64bit-3.5.4.0Qt5\\\\notebooks\\\\Neural_Network_Final\\\\Data\\\\Train\"\n",
    "\n",
    "dp.Div_Data(path_data, \"data.txt\", \"lable_data.txt\", path_data_save)"
   ]
  },
  {
   "cell_type": "code",
   "execution_count": 4,
   "metadata": {},
   "outputs": [],
   "source": [
    "##########################\n",
    "#Phân dữ liệu trong vào các tập s1_post, s1_neg, s2_post, s2_neg,..\n",
    "path_data =  \"E:\\\\WinPython-64bit-3.5.4.0Qt5\\\\notebooks\\\\Neural_Network_Final\\\\Data\"\n",
    "file_path_save = \"E:\\\\WinPython-64bit-3.5.4.0Qt5\\\\notebooks\\\\Neural_Network_Final\\\\Data\\\\K_PTM\"\n",
    "\n",
    "dp.Phan_Loai(path_data, \"data.txt\", \"lable_data.txt\", file_path_save)"
   ]
  },
  {
   "cell_type": "code",
   "execution_count": null,
   "metadata": {},
   "outputs": [],
   "source": []
  }
 ],
 "metadata": {
  "kernelspec": {
   "display_name": "Python 3",
   "language": "python",
   "name": "python3"
  },
  "language_info": {
   "codemirror_mode": {
    "name": "ipython",
    "version": 3
   },
   "file_extension": ".py",
   "mimetype": "text/x-python",
   "name": "python",
   "nbconvert_exporter": "python",
   "pygments_lexer": "ipython3",
   "version": "3.5.4"
  }
 },
 "nbformat": 4,
 "nbformat_minor": 2
}
